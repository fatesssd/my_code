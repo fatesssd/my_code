{
 "cells": [
  {
   "cell_type": "code",
   "execution_count": 4,
   "id": "efb3e425-2490-48e0-9e55-6a654001ed2f",
   "metadata": {},
   "outputs": [
    {
     "name": "stderr",
     "output_type": "stream",
     "text": [
      "D:\\anaconda\\envs\\pytorch\\lib\\site-packages\\libpysal\\weights\\util.py:23: UserWarning: geopandas not available. Some functionality will be disabled.\n",
      "  warn(\"geopandas not available. Some functionality will be disabled.\")\n"
     ]
    }
   ],
   "source": [
    "import pandas as pd\n",
    "import torch\n",
    "import torch.nn as nn\n",
    "import torch.optim as optim\n",
    "from mgwr.gwr import GWR\n",
    "from mgwr.sel_bw import Sel_BW\n",
    "import numpy as np\n"
   ]
  },
  {
   "cell_type": "code",
   "execution_count": 6,
   "id": "cea99e80-723e-4ae7-abf8-674c972d45f6",
   "metadata": {},
   "outputs": [],
   "source": [
    "# 加载数据\n",
    "df = pd.read_csv('housing.csv')\n",
    "X = df[['longitude', 'latitude', 'housing_median_age', 'total_rooms', \n",
    "        'total_bedrooms', 'population', 'households', 'median_income']]\n",
    "y = df['median_house_value']\n",
    "\n",
    "# 转换为 NumPy 数组（用于 GWR）\n",
    "coords = X[['longitude', 'latitude']].values\n",
    "X_gwr = X.drop(['longitude', 'latitude'], axis=1).values\n",
    "y_gwr = y.values.reshape(-1, 1)\n",
    "\n",
    "# 选择带宽\n",
    "sel_bw = Sel_BW(coords, y_gwr, X_gwr)\n",
    "bw = sel_bw.search()\n",
    "\n",
    "# 拟合 GWR 模型\n",
    "gwr_model = GWR(coords, y_gwr, X_gwr, bw)\n",
    "gwr_results = gwr_model.fit()\n",
    "\n",
    "# 获取 GWR 参数作为特征\n",
    "gwr_features = gwr_results.params\n"
   ]
  },
  {
   "cell_type": "code",
   "execution_count": 7,
   "id": "ceccfe2e-16a4-4476-bd2b-8edfe2fac4f3",
   "metadata": {},
   "outputs": [],
   "source": [
    "# 将 GWR 生成的特征加入原始特征\n",
    "X_combined = np.hstack([X_gwr, gwr_features])\n",
    "\n",
    "# 转换为 PyTorch 张量\n",
    "X_combined = torch.tensor(X_combined, dtype=torch.float32)\n",
    "y = torch.tensor(y.values, dtype=torch.float32).view(-1, 1)\n",
    "\n",
    "# 数据标准化\n",
    "def standardize(data):\n",
    "    mean = torch.mean(data, dim=0)\n",
    "    std = torch.std(data, dim=0)\n",
    "    return (data - mean) / std, mean, std\n",
    "\n",
    "X_combined, X_mean, X_std = standardize(X_combined)\n",
    "y, y_mean, y_std = standardize(y)\n",
    "\n",
    "# 划分数据集\n",
    "dataset_size = len(X_combined)\n",
    "train_size = int(0.7 * dataset_size)\n",
    "test_size = dataset_size - train_size\n",
    "indices = torch.randperm(dataset_size)\n",
    "\n",
    "X_train = X_combined[indices[:train_size]]\n",
    "y_train = y[indices[:train_size]]\n",
    "X_test = X_combined[indices[train_size:]]\n",
    "y_test = y[indices[train_size:]]\n",
    "\n",
    "# 使用 GPU（如果可用）\n",
    "device = torch.device('cuda' if torch.cuda.is_available() else 'cpu')\n",
    "X_train, y_train = X_train.to(device), y_train.to(device)\n",
    "X_test, y_test = X_test.to(device), y_test.to(device)\n"
   ]
  },
  {
   "cell_type": "code",
   "execution_count": 8,
   "id": "69bd4176-d493-406b-8f0e-9ceb389110a8",
   "metadata": {},
   "outputs": [],
   "source": [
    "class ImprovedNet(nn.Module):\n",
    "    def __init__(self, input_dim):\n",
    "        super(ImprovedNet, self).__init__()\n",
    "        self.fc1 = nn.Linear(input_dim, 128)\n",
    "        self.bn1 = nn.BatchNorm1d(128)\n",
    "        self.fc2 = nn.Linear(128, 64)\n",
    "        self.bn2 = nn.BatchNorm1d(64)\n",
    "        self.fc3 = nn.Linear(64, 32)\n",
    "        self.bn3 = nn.BatchNorm1d(32)\n",
    "        self.fc4 = nn.Linear(32, 1)\n",
    "        self.dropout = nn.Dropout(0.3)\n",
    "\n",
    "    def forward(self, x):\n",
    "        x = torch.relu(self.bn1(self.fc1(x)))\n",
    "        x = self.dropout(x)\n",
    "        x = torch.relu(self.bn2(self.fc2(x)))\n",
    "        x = self.dropout(x)\n",
    "        x = torch.relu(self.bn3(self.fc3(x)))\n",
    "        x = self.dropout(x)\n",
    "        x = self.fc4(x)\n",
    "        return x\n",
    "\n",
    "input_dim = X_train.shape[1]\n",
    "net = ImprovedNet(input_dim).to(device)\n"
   ]
  },
  {
   "cell_type": "code",
   "execution_count": 9,
   "id": "e40cae3c-f1ad-4154-b077-fa0e4463eb5c",
   "metadata": {},
   "outputs": [
    {
     "name": "stdout",
     "output_type": "stream",
     "text": [
      "Epoch 100/2000, Loss: 0.2482\n",
      "Epoch 200/2000, Loss: 0.2104\n",
      "Epoch 300/2000, Loss: 0.1985\n",
      "Epoch 400/2000, Loss: 0.1835\n",
      "Epoch 500/2000, Loss: 0.1769\n",
      "Epoch 600/2000, Loss: 0.1684\n",
      "Epoch 700/2000, Loss: 0.1700\n",
      "Epoch 800/2000, Loss: 0.1611\n",
      "Epoch 900/2000, Loss: 0.1549\n",
      "Epoch 1000/2000, Loss: 0.1485\n",
      "Epoch 1100/2000, Loss: 0.1469\n",
      "Epoch 1200/2000, Loss: 0.1423\n",
      "Epoch 1300/2000, Loss: 0.1411\n",
      "Epoch 1400/2000, Loss: 0.1371\n",
      "Epoch 1500/2000, Loss: 0.1374\n",
      "Epoch 1600/2000, Loss: 0.1323\n",
      "Epoch 1700/2000, Loss: 0.1328\n",
      "Epoch 1800/2000, Loss: 0.1310\n",
      "Epoch 1900/2000, Loss: 0.1255\n",
      "Epoch 2000/2000, Loss: 0.1277\n",
      "Standardized Test RMSE: 0.3362\n",
      "Original Scale Test RMSE: 39569.0938\n"
     ]
    }
   ],
   "source": [
    "# 定义损失函数和优化器\n",
    "criterion = nn.MSELoss()\n",
    "optimizer = optim.Adam(net.parameters(), lr=0.001)\n",
    "\n",
    "# 训练模型\n",
    "epochs = 2000\n",
    "for epoch in range(1, epochs + 1):\n",
    "    net.train()\n",
    "    optimizer.zero_grad()\n",
    "    outputs = net(X_train)\n",
    "    loss = criterion(outputs, y_train)\n",
    "    loss.backward()\n",
    "    optimizer.step()\n",
    "    if epoch % 100 == 0:\n",
    "        print(f\"Epoch {epoch}/{epochs}, Loss: {loss.item():.4f}\")\n",
    "\n",
    "\n"
   ]
  },
  {
   "cell_type": "code",
   "execution_count": 14,
   "id": "75b212f7-d4dd-40f3-8770-8acb5ddcbfc3",
   "metadata": {},
   "outputs": [],
   "source": [
    "def calculate_r2(y_true, y_pred):\n",
    "    ssr = torch.sum((y_true - y_pred) ** 2)  # 残差平方和\n",
    "    sst = torch.sum((y_true - torch.mean(y_true)) ** 2)  # 总平方和\n",
    "    r2 = 1 - ssr / sst\n",
    "    return r2\n"
   ]
  },
  {
   "cell_type": "code",
   "execution_count": 18,
   "id": "e4b374b5-cdec-4ce8-8914-38dbeb0f56a2",
   "metadata": {},
   "outputs": [
    {
     "name": "stdout",
     "output_type": "stream",
     "text": [
      "Standardized Train RMSE: 0.2708\n",
      "Standardized Test RMSE: 0.3362\n",
      "Original Scale Train RMSE: 31865.7520\n",
      "Original Scale Test RMSE: 39569.0938\n",
      "Train R²: 0.9273\n",
      "Test R²: 0.8847\n"
     ]
    }
   ],
   "source": [
    "# 训练集评估\n",
    "net.eval()\n",
    "with torch.no_grad():\n",
    "    y_pred_train = net(X_train)\n",
    "    train_rmse = calculate_rmse(y_train, y_pred_train)\n",
    "    train_r2 = calculate_r2(y_train, y_pred_train)\n",
    "\n",
    "    y_pred_test = net(X_test)\n",
    "    test_rmse = calculate_rmse(y_test, y_pred_test)\n",
    "    test_r2 = calculate_r2(y_test, y_pred_test)\n",
    "\n",
    "# 还原到原始尺度\n",
    "restored_train_rmse = train_rmse * y_std.to(device)\n",
    "restored_test_rmse = test_rmse * y_std.to(device)\n",
    "\n",
    "print(f\"Standardized Train RMSE: {train_rmse.item():.4f}\")\n",
    "print(f\"Standardized Test RMSE: {test_rmse.item():.4f}\")\n",
    "print(f\"Original Scale Train RMSE: {restored_train_rmse.item():.4f}\")\n",
    "print(f\"Original Scale Test RMSE: {restored_test_rmse.item():.4f}\")\n",
    "print(f\"Train R²: {train_r2.item():.4f}\")\n",
    "print(f\"Test R²: {test_r2.item():.4f}\")\n"
   ]
  },
  {
   "cell_type": "code",
   "execution_count": null,
   "id": "308c5da7-50c4-4cf0-8d12-79e1ba0c5210",
   "metadata": {},
   "outputs": [],
   "source": []
  }
 ],
 "metadata": {
  "kernelspec": {
   "display_name": "PyTorch",
   "language": "python",
   "name": "pytorch"
  },
  "language_info": {
   "codemirror_mode": {
    "name": "ipython",
    "version": 3
   },
   "file_extension": ".py",
   "mimetype": "text/x-python",
   "name": "python",
   "nbconvert_exporter": "python",
   "pygments_lexer": "ipython3",
   "version": "3.9.19"
  }
 },
 "nbformat": 4,
 "nbformat_minor": 5
}
